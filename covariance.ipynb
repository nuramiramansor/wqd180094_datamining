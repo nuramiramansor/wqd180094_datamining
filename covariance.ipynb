{
 "cells": [
  {
   "cell_type": "code",
   "execution_count": 96,
   "metadata": {},
   "outputs": [
    {
     "data": {
      "text/html": [
       "<div>\n",
       "<style scoped>\n",
       "    .dataframe tbody tr th:only-of-type {\n",
       "        vertical-align: middle;\n",
       "    }\n",
       "\n",
       "    .dataframe tbody tr th {\n",
       "        vertical-align: top;\n",
       "    }\n",
       "\n",
       "    .dataframe thead th {\n",
       "        text-align: right;\n",
       "    }\n",
       "</style>\n",
       "<table border=\"1\" class=\"dataframe\">\n",
       "  <thead>\n",
       "    <tr style=\"text-align: right;\">\n",
       "      <th></th>\n",
       "      <th>ID</th>\n",
       "      <th>Datetime</th>\n",
       "      <th>CompanySymbol</th>\n",
       "      <th>OpenPrice</th>\n",
       "      <th>HighPrice</th>\n",
       "      <th>LowPrice</th>\n",
       "      <th>LastPrice</th>\n",
       "    </tr>\n",
       "  </thead>\n",
       "  <tbody>\n",
       "    <tr>\n",
       "      <th>0</th>\n",
       "      <td>207649</td>\n",
       "      <td>13 Mar 2019 - 7:13 PM</td>\n",
       "      <td>3A</td>\n",
       "      <td>0.85</td>\n",
       "      <td>0.855</td>\n",
       "      <td>0.845</td>\n",
       "      <td>0.850</td>\n",
       "    </tr>\n",
       "    <tr>\n",
       "      <th>1</th>\n",
       "      <td>207650</td>\n",
       "      <td>13 Mar 2019 - 7:13 PM</td>\n",
       "      <td>A50CHIN-C22</td>\n",
       "      <td>0.14</td>\n",
       "      <td>0.145</td>\n",
       "      <td>0.120</td>\n",
       "      <td>0.135</td>\n",
       "    </tr>\n",
       "    <tr>\n",
       "      <th>2</th>\n",
       "      <td>207651</td>\n",
       "      <td>13 Mar 2019 - 7:13 PM</td>\n",
       "      <td>A50CHIN-C24</td>\n",
       "      <td>0.67</td>\n",
       "      <td>0.670</td>\n",
       "      <td>0.670</td>\n",
       "      <td>0.670</td>\n",
       "    </tr>\n",
       "  </tbody>\n",
       "</table>\n",
       "</div>"
      ],
      "text/plain": [
       "       ID               Datetime CompanySymbol  OpenPrice  HighPrice  \\\n",
       "0  207649  13 Mar 2019 - 7:13 PM            3A       0.85      0.855   \n",
       "1  207650  13 Mar 2019 - 7:13 PM   A50CHIN-C22       0.14      0.145   \n",
       "2  207651  13 Mar 2019 - 7:13 PM   A50CHIN-C24       0.67      0.670   \n",
       "\n",
       "   LowPrice  LastPrice  \n",
       "0     0.845      0.850  \n",
       "1     0.120      0.135  \n",
       "2     0.670      0.670  "
      ]
     },
     "execution_count": 96,
     "metadata": {},
     "output_type": "execute_result"
    }
   ],
   "source": [
    "import pandas as pd\n",
    "from pandas import Series\n",
    "import numpy as np\n",
    "import warnings\n",
    "from matplotlib import pyplot as plt\n",
    "import seaborn as sns\n",
    "from collections import Counter\n",
    "from sklearn import preprocessing\n",
    "\n",
    "\n",
    "path = 'C:/Users/Kavish/Dropbox/_Master of Data Science - UM/WQD7005 - Data Mining/Assignment/Milestone 3/Notebooks/the_star_data.csv'\n",
    "# df = pd.read_csv(path,parse_dates=['Datetime'])\n",
    "df = pd.read_csv(path)\n",
    "df.head(3)\n"
   ]
  },
  {
   "cell_type": "code",
   "execution_count": 47,
   "metadata": {
    "scrolled": true
   },
   "outputs": [
    {
     "data": {
      "text/html": [
       "<div>\n",
       "<style scoped>\n",
       "    .dataframe tbody tr th:only-of-type {\n",
       "        vertical-align: middle;\n",
       "    }\n",
       "\n",
       "    .dataframe tbody tr th {\n",
       "        vertical-align: top;\n",
       "    }\n",
       "\n",
       "    .dataframe thead th {\n",
       "        text-align: right;\n",
       "    }\n",
       "</style>\n",
       "<table border=\"1\" class=\"dataframe\">\n",
       "  <thead>\n",
       "    <tr style=\"text-align: right;\">\n",
       "      <th></th>\n",
       "      <th>CompanySymbol</th>\n",
       "      <th>OpenPrice</th>\n",
       "      <th>HighPrice</th>\n",
       "      <th>LowPrice</th>\n",
       "      <th>LastPrice</th>\n",
       "    </tr>\n",
       "    <tr>\n",
       "      <th>Datetime</th>\n",
       "      <th></th>\n",
       "      <th></th>\n",
       "      <th></th>\n",
       "      <th></th>\n",
       "      <th></th>\n",
       "    </tr>\n",
       "  </thead>\n",
       "  <tbody>\n",
       "    <tr>\n",
       "      <th>01 Mar 2019 - 7:11 PM</th>\n",
       "      <td>SUNZEN-WB</td>\n",
       "      <td>0.030</td>\n",
       "      <td>0.030</td>\n",
       "      <td>0.030</td>\n",
       "      <td>0.030</td>\n",
       "    </tr>\n",
       "    <tr>\n",
       "      <th>01 Mar 2019 - 7:11 PM</th>\n",
       "      <td>GPA-WA</td>\n",
       "      <td>0.020</td>\n",
       "      <td>0.020</td>\n",
       "      <td>0.020</td>\n",
       "      <td>0.020</td>\n",
       "    </tr>\n",
       "    <tr>\n",
       "      <th>01 Mar 2019 - 7:11 PM</th>\n",
       "      <td>GPACKET</td>\n",
       "      <td>0.315</td>\n",
       "      <td>0.335</td>\n",
       "      <td>0.315</td>\n",
       "      <td>0.335</td>\n",
       "    </tr>\n",
       "  </tbody>\n",
       "</table>\n",
       "</div>"
      ],
      "text/plain": [
       "                      CompanySymbol  OpenPrice  HighPrice  LowPrice  LastPrice\n",
       "Datetime                                                                      \n",
       "01 Mar 2019 - 7:11 PM     SUNZEN-WB      0.030      0.030     0.030      0.030\n",
       "01 Mar 2019 - 7:11 PM        GPA-WA      0.020      0.020     0.020      0.020\n",
       "01 Mar 2019 - 7:11 PM       GPACKET      0.315      0.335     0.315      0.335"
      ]
     },
     "execution_count": 47,
     "metadata": {},
     "output_type": "execute_result"
    }
   ],
   "source": [
    "df.drop('ID', axis=1, inplace=True)\n",
    "df.drop_duplicates(subset=['Datetime', 'CompanySymbol'], inplace=True)\n",
    "df = df.set_index('Datetime')\n",
    "df.sort_index(inplace=True)\n",
    "\n",
    "df.head(3)"
   ]
  },
  {
   "cell_type": "code",
   "execution_count": 51,
   "metadata": {},
   "outputs": [
    {
     "name": "stdout",
     "output_type": "stream",
     "text": [
      "Created function.\n"
     ]
    }
   ],
   "source": [
    "def getData(name):\n",
    "    filter = df['CompanySymbol']==name\n",
    "    new_data = df[filter]\n",
    "    return new_data\n",
    "\n",
    "print('Created function.')"
   ]
  },
  {
   "cell_type": "code",
   "execution_count": 64,
   "metadata": {},
   "outputs": [
    {
     "data": {
      "text/html": [
       "<div>\n",
       "<style scoped>\n",
       "    .dataframe tbody tr th:only-of-type {\n",
       "        vertical-align: middle;\n",
       "    }\n",
       "\n",
       "    .dataframe tbody tr th {\n",
       "        vertical-align: top;\n",
       "    }\n",
       "\n",
       "    .dataframe thead th {\n",
       "        text-align: right;\n",
       "    }\n",
       "</style>\n",
       "<table border=\"1\" class=\"dataframe\">\n",
       "  <thead>\n",
       "    <tr style=\"text-align: right;\">\n",
       "      <th></th>\n",
       "      <th>LastPrice</th>\n",
       "    </tr>\n",
       "    <tr>\n",
       "      <th>Datetime</th>\n",
       "      <th></th>\n",
       "    </tr>\n",
       "  </thead>\n",
       "  <tbody>\n",
       "    <tr>\n",
       "      <th>01 Mar 2019 - 7:11 PM</th>\n",
       "      <td>9.53</td>\n",
       "    </tr>\n",
       "    <tr>\n",
       "      <th>04 Mar 2019 - 1:06 PM</th>\n",
       "      <td>9.54</td>\n",
       "    </tr>\n",
       "    <tr>\n",
       "      <th>04 Mar 2019 - 5:19 PM</th>\n",
       "      <td>9.54</td>\n",
       "    </tr>\n",
       "    <tr>\n",
       "      <th>04 Mar 2019 - 7:11 PM</th>\n",
       "      <td>9.54</td>\n",
       "    </tr>\n",
       "    <tr>\n",
       "      <th>04 Mar 2019 - 9:21 AM</th>\n",
       "      <td>9.56</td>\n",
       "    </tr>\n",
       "    <tr>\n",
       "      <th>05 Mar 2019 - 1:06 PM</th>\n",
       "      <td>9.55</td>\n",
       "    </tr>\n",
       "    <tr>\n",
       "      <th>05 Mar 2019 - 5:19 PM</th>\n",
       "      <td>9.53</td>\n",
       "    </tr>\n",
       "    <tr>\n",
       "      <th>05 Mar 2019 - 7:11 PM</th>\n",
       "      <td>9.53</td>\n",
       "    </tr>\n",
       "    <tr>\n",
       "      <th>05 Mar 2019 - 9:21 AM</th>\n",
       "      <td>9.55</td>\n",
       "    </tr>\n",
       "    <tr>\n",
       "      <th>06 Mar 2019 - 1:06 PM</th>\n",
       "      <td>9.53</td>\n",
       "    </tr>\n",
       "  </tbody>\n",
       "</table>\n",
       "</div>"
      ],
      "text/plain": [
       "                       LastPrice\n",
       "Datetime                        \n",
       "01 Mar 2019 - 7:11 PM       9.53\n",
       "04 Mar 2019 - 1:06 PM       9.54\n",
       "04 Mar 2019 - 5:19 PM       9.54\n",
       "04 Mar 2019 - 7:11 PM       9.54\n",
       "04 Mar 2019 - 9:21 AM       9.56\n",
       "05 Mar 2019 - 1:06 PM       9.55\n",
       "05 Mar 2019 - 5:19 PM       9.53\n",
       "05 Mar 2019 - 7:11 PM       9.53\n",
       "05 Mar 2019 - 9:21 AM       9.55\n",
       "06 Mar 2019 - 1:06 PM       9.53"
      ]
     },
     "execution_count": 64,
     "metadata": {},
     "output_type": "execute_result"
    }
   ],
   "source": [
    "maybank = getData('MAYBANK')\n",
    "maybank = maybank[['LastPrice']]\n",
    "maybank.head(10)"
   ]
  },
  {
   "cell_type": "code",
   "execution_count": 65,
   "metadata": {},
   "outputs": [
    {
     "data": {
      "text/plain": [
       "<matplotlib.axes._subplots.AxesSubplot at 0x21b878ba860>"
      ]
     },
     "execution_count": 65,
     "metadata": {},
     "output_type": "execute_result"
    },
    {
     "data": {
      "image/png": "[encoded data removed]",
      "text/plain": [
       "<Figure size 432x288 with 1 Axes>"
      ]
     },
     "metadata": {
      "needs_background": "light"
     },
     "output_type": "display_data"
    }
   ],
   "source": [
    "maybank.plot()"
   ]
  },
  {
   "cell_type": "code",
   "execution_count": 66,
   "metadata": {},
   "outputs": [
    {
     "data": {
      "text/plain": [
       "<matplotlib.axes._subplots.AxesSubplot at 0x21b86773160>"
      ]
     },
     "execution_count": 66,
     "metadata": {},
     "output_type": "execute_result"
    },
    {
     "data": {
      "image/png": "[encoded data removed]",
      "text/plain": [
       "<Figure size 432x288 with 1 Axes>"
      ]
     },
     "metadata": {
      "needs_background": "light"
     },
     "output_type": "display_data"
    }
   ],
   "source": [
    "cimb = getData('CIMB')\n",
    "cimb = cimb[['LastPrice']]\n",
    "cimb.plot()"
   ]
  },
  {
   "cell_type": "code",
   "execution_count": 71,
   "metadata": {},
   "outputs": [
    {
     "data": {
      "text/html": [
       "<div>\n",
       "<style scoped>\n",
       "    .dataframe tbody tr th:only-of-type {\n",
       "        vertical-align: middle;\n",
       "    }\n",
       "\n",
       "    .dataframe tbody tr th {\n",
       "        vertical-align: top;\n",
       "    }\n",
       "\n",
       "    .dataframe thead th {\n",
       "        text-align: right;\n",
       "    }\n",
       "</style>\n",
       "<table border=\"1\" class=\"dataframe\">\n",
       "  <thead>\n",
       "    <tr style=\"text-align: right;\">\n",
       "      <th></th>\n",
       "      <th>MAYBANK</th>\n",
       "      <th>CIMB</th>\n",
       "    </tr>\n",
       "    <tr>\n",
       "      <th>Datetime</th>\n",
       "      <th></th>\n",
       "      <th></th>\n",
       "    </tr>\n",
       "  </thead>\n",
       "  <tbody>\n",
       "    <tr>\n",
       "      <th>01 Mar 2019 - 7:11 PM</th>\n",
       "      <td>9.53</td>\n",
       "      <td>5.68</td>\n",
       "    </tr>\n",
       "    <tr>\n",
       "      <th>04 Mar 2019 - 1:06 PM</th>\n",
       "      <td>9.54</td>\n",
       "      <td>NaN</td>\n",
       "    </tr>\n",
       "    <tr>\n",
       "      <th>04 Mar 2019 - 5:19 PM</th>\n",
       "      <td>9.54</td>\n",
       "      <td>NaN</td>\n",
       "    </tr>\n",
       "    <tr>\n",
       "      <th>04 Mar 2019 - 7:11 PM</th>\n",
       "      <td>9.54</td>\n",
       "      <td>5.64</td>\n",
       "    </tr>\n",
       "    <tr>\n",
       "      <th>04 Mar 2019 - 9:21 AM</th>\n",
       "      <td>9.56</td>\n",
       "      <td>NaN</td>\n",
       "    </tr>\n",
       "  </tbody>\n",
       "</table>\n",
       "</div>"
      ],
      "text/plain": [
       "                       MAYBANK  CIMB\n",
       "Datetime                            \n",
       "01 Mar 2019 - 7:11 PM     9.53  5.68\n",
       "04 Mar 2019 - 1:06 PM     9.54   NaN\n",
       "04 Mar 2019 - 5:19 PM     9.54   NaN\n",
       "04 Mar 2019 - 7:11 PM     9.54  5.64\n",
       "04 Mar 2019 - 9:21 AM     9.56   NaN"
      ]
     },
     "execution_count": 71,
     "metadata": {},
     "output_type": "execute_result"
    }
   ],
   "source": [
    "result = maybank.merge(cimb, on = 'Datetime',how='outer')\n",
    "result.columns = ['MAYBANK','CIMB']\n",
    "result.head()"
   ]
  },
  {
   "cell_type": "code",
   "execution_count": 73,
   "metadata": {},
   "outputs": [],
   "source": [
    "from sklearn import preprocessing"
   ]
  },
  {
   "cell_type": "code",
   "execution_count": 77,
   "metadata": {},
   "outputs": [
    {
     "data": {
      "text/html": [
       "<div>\n",
       "<style scoped>\n",
       "    .dataframe tbody tr th:only-of-type {\n",
       "        vertical-align: middle;\n",
       "    }\n",
       "\n",
       "    .dataframe tbody tr th {\n",
       "        vertical-align: top;\n",
       "    }\n",
       "\n",
       "    .dataframe thead th {\n",
       "        text-align: right;\n",
       "    }\n",
       "</style>\n",
       "<table border=\"1\" class=\"dataframe\">\n",
       "  <thead>\n",
       "    <tr style=\"text-align: right;\">\n",
       "      <th></th>\n",
       "      <th>MAYBANK</th>\n",
       "      <th>CIMB</th>\n",
       "    </tr>\n",
       "  </thead>\n",
       "  <tbody>\n",
       "    <tr>\n",
       "      <th>0</th>\n",
       "      <td>0.833333</td>\n",
       "      <td>0.753086</td>\n",
       "    </tr>\n",
       "    <tr>\n",
       "      <th>1</th>\n",
       "      <td>0.861111</td>\n",
       "      <td>NaN</td>\n",
       "    </tr>\n",
       "    <tr>\n",
       "      <th>2</th>\n",
       "      <td>0.861111</td>\n",
       "      <td>NaN</td>\n",
       "    </tr>\n",
       "    <tr>\n",
       "      <th>3</th>\n",
       "      <td>0.861111</td>\n",
       "      <td>0.703704</td>\n",
       "    </tr>\n",
       "    <tr>\n",
       "      <th>4</th>\n",
       "      <td>0.916667</td>\n",
       "      <td>NaN</td>\n",
       "    </tr>\n",
       "  </tbody>\n",
       "</table>\n",
       "</div>"
      ],
      "text/plain": [
       "    MAYBANK      CIMB\n",
       "0  0.833333  0.753086\n",
       "1  0.861111       NaN\n",
       "2  0.861111       NaN\n",
       "3  0.861111  0.703704\n",
       "4  0.916667       NaN"
      ]
     },
     "execution_count": 77,
     "metadata": {},
     "output_type": "execute_result"
    }
   ],
   "source": [
    "min_max_scaler = preprocessing.MinMaxScaler()\n",
    "scaled = min_max_scaler.fit_transform(result)\n",
    "scaled_df = pd.DataFrame(scaled)\n",
    "scaled_df.columns = ['MAYBANK','CIMB']\n",
    "scaled_df.head()"
   ]
  },
  {
   "cell_type": "code",
   "execution_count": 78,
   "metadata": {},
   "outputs": [
    {
     "data": {
      "text/html": [
       "<div>\n",
       "<style scoped>\n",
       "    .dataframe tbody tr th:only-of-type {\n",
       "        vertical-align: middle;\n",
       "    }\n",
       "\n",
       "    .dataframe tbody tr th {\n",
       "        vertical-align: top;\n",
       "    }\n",
       "\n",
       "    .dataframe thead th {\n",
       "        text-align: right;\n",
       "    }\n",
       "</style>\n",
       "<table border=\"1\" class=\"dataframe\">\n",
       "  <thead>\n",
       "    <tr style=\"text-align: right;\">\n",
       "      <th></th>\n",
       "      <th>MAYBANK</th>\n",
       "      <th>CIMB</th>\n",
       "    </tr>\n",
       "  </thead>\n",
       "  <tbody>\n",
       "    <tr>\n",
       "      <th>MAYBANK</th>\n",
       "      <td>0.097767</td>\n",
       "      <td>0.075837</td>\n",
       "    </tr>\n",
       "    <tr>\n",
       "      <th>CIMB</th>\n",
       "      <td>0.075837</td>\n",
       "      <td>0.078550</td>\n",
       "    </tr>\n",
       "  </tbody>\n",
       "</table>\n",
       "</div>"
      ],
      "text/plain": [
       "          MAYBANK      CIMB\n",
       "MAYBANK  0.097767  0.075837\n",
       "CIMB     0.075837  0.078550"
      ]
     },
     "execution_count": 78,
     "metadata": {},
     "output_type": "execute_result"
    }
   ],
   "source": [
    "scaled_df.cov()"
   ]
  },
  {
   "cell_type": "code",
   "execution_count": 91,
   "metadata": {},
   "outputs": [
    {
     "data": {
      "text/plain": [
       "Text(0.5, 1.0, 'Raw time series')"
      ]
     },
     "execution_count": 91,
     "metadata": {},
     "output_type": "execute_result"
    },
    {
     "data": {
      "image/png": "[encoded data removed]",
      "text/plain": [
       "<Figure size 432x288 with 1 Axes>"
      ]
     },
     "metadata": {
      "needs_background": "light"
     },
     "output_type": "display_data"
    }
   ],
   "source": [
    "from tslearn.generators import random_walks\n",
    "from tslearn.preprocessing import TimeSeriesScalerMeanVariance\n",
    "from tslearn.piecewise import PiecewiseAggregateApproximation\n",
    "from tslearn.piecewise import SymbolicAggregateApproximation, OneD_SymbolicAggregateApproximation\n",
    "\n",
    "scaler = TimeSeriesScalerMeanVariance(mu=0., std=1.)  # Rescale time series\n",
    "dataset = scaler.fit_transform(maybank.LastPrice)\n",
    "\n",
    "n_paa_segments = 10\n",
    "paa = PiecewiseAggregateApproximation(n_segments=n_paa_segments)\n",
    "paa_dataset_inv = paa.inverse_transform(paa.fit_transform(dataset))\n",
    "\n",
    "plt.figure()\n",
    "plt.subplot(2, 2, 1)  # First, raw time series\n",
    "plt.plot(dataset[0].ravel(), \"b-\")\n",
    "plt.title(\"Raw time series\")"
   ]
  },
  {
   "cell_type": "code",
   "execution_count": 92,
   "metadata": {},
   "outputs": [
    {
     "data": {
      "text/plain": [
       "Text(0.5, 1.0, 'PAA')"
      ]
     },
     "execution_count": 92,
     "metadata": {},
     "output_type": "execute_result"
    },
    {
     "data": {
      "image/png": "[encoded data removed]",
      "text/plain": [
       "<Figure size 432x288 with 1 Axes>"
      ]
     },
     "metadata": {
      "needs_background": "light"
     },
     "output_type": "display_data"
    }
   ],
   "source": [
    "plt.subplot(2, 2, 2)  # Second, PAA\n",
    "plt.plot(dataset[0].ravel(), \"b-\", alpha=0.4)\n",
    "plt.plot(paa_dataset_inv[0].ravel(), \"b-\")\n",
    "plt.title(\"PAA\")"
   ]
  },
  {
   "cell_type": "code",
   "execution_count": 94,
   "metadata": {},
   "outputs": [
    {
     "data": {
      "text/plain": [
       "Text(0.5, 1.0, 'SAX, 8 symbols')"
      ]
     },
     "execution_count": 94,
     "metadata": {},
     "output_type": "execute_result"
    },
    {
     "data": {
      "image/png": "[encoded data removed]",
      "text/plain": [
       "<Figure size 432x288 with 1 Axes>"
      ]
     },
     "metadata": {
      "needs_background": "light"
     },
     "output_type": "display_data"
    }
   ],
   "source": [
    "# SAX transform\n",
    "n_sax_symbols = 8\n",
    "sax = SymbolicAggregateApproximation(n_segments=n_paa_segments, alphabet_size_avg=n_sax_symbols)\n",
    "sax_dataset_inv = sax.inverse_transform(sax.fit_transform(dataset))\n",
    "\n",
    "plt.subplot(2, 2, 3)  # Then SAX\n",
    "plt.plot(dataset[0].ravel(), \"b-\", alpha=0.4)\n",
    "plt.plot(sax_dataset_inv[0].ravel(), \"b-\")\n",
    "plt.title(\"SAX, %d symbols\" % n_sax_symbols)"
   ]
  },
  {
   "cell_type": "code",
   "execution_count": 95,
   "metadata": {},
   "outputs": [
    {
     "data": {
      "image/png": "[encoded data removed]",
      "text/plain": [
       "<Figure size 432x288 with 1 Axes>"
      ]
     },
     "metadata": {
      "needs_background": "light"
     },
     "output_type": "display_data"
    }
   ],
   "source": [
    "# 1d-SAX transform\n",
    "n_sax_symbols_avg = 8\n",
    "n_sax_symbols_slope = 8\n",
    "one_d_sax = OneD_SymbolicAggregateApproximation(n_segments=n_paa_segments, alphabet_size_avg=n_sax_symbols_avg,\n",
    "                                                alphabet_size_slope=n_sax_symbols_slope)\n",
    "one_d_sax_dataset_inv = one_d_sax.inverse_transform(one_d_sax.fit_transform(dataset))\n",
    "\n",
    "plt.subplot(2, 2, 4)  # Finally, 1d-SAX\n",
    "plt.plot(dataset[0].ravel(), \"b-\", alpha=0.4)\n",
    "plt.plot(one_d_sax_dataset_inv[0].ravel(), \"b-\")\n",
    "plt.title(\"1d-SAX, %d symbols (%dx%d)\" % (n_sax_symbols_avg * n_sax_symbols_slope,\n",
    "                                          n_sax_symbols_avg,\n",
    "                                          n_sax_symbols_slope))\n",
    "\n",
    "plt.tight_layout()\n",
    "plt.show()"
   ]
  },
  {
   "cell_type": "code",
   "execution_count": null,
   "metadata": {},
   "outputs": [],
   "source": []
  }
 ],
 "metadata": {
  "kernelspec": {
   "display_name": "Python 3",
   "language": "python",
   "name": "python3"
  },
  "language_info": {
   "codemirror_mode": {
    "name": "ipython",
    "version": 3
   },
   "file_extension": ".py",
   "mimetype": "text/x-python",
   "name": "python",
   "nbconvert_exporter": "python",
   "pygments_lexer": "ipython3",
   "version": "3.7.1"
  }
 },
 "nbformat": 4,
 "nbformat_minor": 2
}
